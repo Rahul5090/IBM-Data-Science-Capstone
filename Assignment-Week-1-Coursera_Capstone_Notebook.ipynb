{
 "cells": [
  {
   "cell_type": "markdown",
   "id": "31805323",
   "metadata": {},
   "source": [
    "## 1. Write some markdown to explain that this notebook will be mainly used for the capstone project."
   ]
  },
  {
   "cell_type": "markdown",
   "id": "90bc1b88",
   "metadata": {},
   "source": [
    "### This notebook will be mainly used for the capstone project.¶"
   ]
  },
  {
   "cell_type": "markdown",
   "id": "3976facb",
   "metadata": {},
   "source": [
    "## 2. Import the pandas library as pd"
   ]
  },
  {
   "cell_type": "code",
   "execution_count": 1,
   "id": "c5487d4e",
   "metadata": {},
   "outputs": [],
   "source": [
    "import pandas as pd"
   ]
  },
  {
   "cell_type": "markdown",
   "id": "bdc06f91",
   "metadata": {},
   "source": [
    "## 3. Import the Numpy library as np"
   ]
  },
  {
   "cell_type": "code",
   "execution_count": 2,
   "id": "512beb9d",
   "metadata": {},
   "outputs": [],
   "source": [
    "import numpy as np"
   ]
  },
  {
   "cell_type": "markdown",
   "id": "9a0e9bf2",
   "metadata": {},
   "source": [
    "## 4. Print the following the statement: Hello Capstone Project Course!"
   ]
  },
  {
   "cell_type": "code",
   "execution_count": 3,
   "id": "e08068f2",
   "metadata": {},
   "outputs": [
    {
     "name": "stdout",
     "output_type": "stream",
     "text": [
      "Hello Capstone Project Course!\n"
     ]
    }
   ],
   "source": [
    "print(\"Hello Capstone Project Course!\")"
   ]
  },
  {
   "cell_type": "code",
   "execution_count": null,
   "id": "e093c499",
   "metadata": {},
   "outputs": [],
   "source": []
  }
 ],
 "metadata": {
  "kernelspec": {
   "display_name": "Python 3",
   "language": "python",
   "name": "python3"
  },
  "language_info": {
   "codemirror_mode": {
    "name": "ipython",
    "version": 3
   },
   "file_extension": ".py",
   "mimetype": "text/x-python",
   "name": "python",
   "nbconvert_exporter": "python",
   "pygments_lexer": "ipython3",
   "version": "3.8.8"
  }
 },
 "nbformat": 4,
 "nbformat_minor": 5
}
